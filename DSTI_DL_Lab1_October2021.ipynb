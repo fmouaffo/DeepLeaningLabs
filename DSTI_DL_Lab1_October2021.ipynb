{
 "cells": [
  {
   "cell_type": "markdown",
   "metadata": {
    "id": "mYjIe2Y5gC9e"
   },
   "source": [
    "# Torch basics"
   ]
  },
  {
   "cell_type": "code",
   "execution_count": 51,
   "metadata": {
    "pycharm": {
     "name": "#%%\n"
    }
   },
   "outputs": [],
   "source": [
    "import pandas"
   ]
  },
  {
   "cell_type": "code",
   "execution_count": 52,
   "metadata": {
    "executionInfo": {
     "elapsed": 3787,
     "status": "ok",
     "timestamp": 1618173224758,
     "user": {
      "displayName": "Lionel Fillatre",
      "photoUrl": "",
      "userId": "14463393848879581998"
     },
     "user_tz": -120
    },
    "id": "Hh6cps5cgC9g"
   },
   "outputs": [],
   "source": [
    "import matplotlib.pyplot as plt\n",
    "%matplotlib inline\n",
    "import torch\n",
    "import numpy as np"
   ]
  },
  {
   "cell_type": "code",
   "execution_count": 53,
   "metadata": {
    "colab": {
     "base_uri": "https://localhost:8080/",
     "height": 35
    },
    "executionInfo": {
     "elapsed": 3782,
     "status": "ok",
     "timestamp": 1618173224765,
     "user": {
      "displayName": "Lionel Fillatre",
      "photoUrl": "",
      "userId": "14463393848879581998"
     },
     "user_tz": -120
    },
    "id": "Pe1KgPFqgC9m",
    "outputId": "c8107d06-46ca-4b61-daa2-115f15b59d41"
   },
   "outputs": [
    {
     "data": {
      "text/plain": [
       "'1.4.0'"
      ]
     },
     "execution_count": 53,
     "metadata": {},
     "output_type": "execute_result"
    }
   ],
   "source": [
    "torch.__version__"
   ]
  },
  {
   "cell_type": "markdown",
   "metadata": {
    "id": "lMn2UjdXgC9r"
   },
   "source": [
    "Largely inspired from the tutorial [What is PyTorch?](https://pytorch.org/tutorials/beginner/former_torchies/tensor_tutorial.html)\n",
    "\n",
    "Tensors are used to encode the signal to process, but also the internal states and parameters of models.\n",
    "\n",
    "Manipulating data through this constrained structure allows to use CPUs and GPUs at peak performance.\n",
    "\n"
   ]
  },
  {
   "cell_type": "markdown",
   "metadata": {
    "id": "loUAlh7dyVpN"
   },
   "source": [
    "## Tensors"
   ]
  },
  {
   "cell_type": "markdown",
   "metadata": {
    "id": "hlUFi857xt6Q"
   },
   "source": [
    "Construct a 3x5 matrix, uninitialized:"
   ]
  },
  {
   "cell_type": "code",
   "execution_count": 54,
   "metadata": {
    "executionInfo": {
     "elapsed": 3780,
     "status": "ok",
     "timestamp": 1618173224766,
     "user": {
      "displayName": "Lionel Fillatre",
      "photoUrl": "",
      "userId": "14463393848879581998"
     },
     "user_tz": -120
    },
    "id": "2kLcNt8IgC9r"
   },
   "outputs": [],
   "source": [
    "# Sets the default floating point dtype. \n",
    "# This type will be used as default floating point type for type inference in torch.tensor().\n",
    "torch.set_default_tensor_type('torch.FloatTensor') "
   ]
  },
  {
   "cell_type": "code",
   "execution_count": 55,
   "metadata": {
    "colab": {
     "base_uri": "https://localhost:8080/"
    },
    "executionInfo": {
     "elapsed": 3772,
     "status": "ok",
     "timestamp": 1618173224766,
     "user": {
      "displayName": "Lionel Fillatre",
      "photoUrl": "",
      "userId": "14463393848879581998"
     },
     "user_tz": -120
    },
    "id": "RjUhHCJMgC9u",
    "outputId": "ec2889b7-4b85-40ce-c976-eeae1c6c7c30"
   },
   "outputs": [
    {
     "name": "stdout",
     "output_type": "stream",
     "text": [
      "torch.FloatTensor\n",
      "tensor([[1.0194e-38, 8.4490e-39, 1.0469e-38, 9.3674e-39, 9.9184e-39],\n",
      "        [8.7245e-39, 9.2755e-39, 8.9082e-39, 9.9184e-39, 8.4490e-39],\n",
      "        [9.6429e-39, 1.0653e-38, 1.0469e-38, 4.2246e-39, 1.0378e-38]])\n"
     ]
    }
   ],
   "source": [
    "x = torch.empty(3,5)\n",
    "print(x.type())\n",
    "print(x)"
   ]
  },
  {
   "cell_type": "code",
   "execution_count": 56,
   "metadata": {
    "colab": {
     "base_uri": "https://localhost:8080/"
    },
    "executionInfo": {
     "elapsed": 3766,
     "status": "ok",
     "timestamp": 1618173224767,
     "user": {
      "displayName": "Lionel Fillatre",
      "photoUrl": "",
      "userId": "14463393848879581998"
     },
     "user_tz": -120
    },
    "id": "MnRsrLh5gC9w",
    "outputId": "1b3c4656-7be5-4f0d-dfa6-092ba8bd5fd7"
   },
   "outputs": [
    {
     "name": "stdout",
     "output_type": "stream",
     "text": [
      "tensor([[ 0.7183,  1.2266,  0.5162, -2.4212,  0.4935],\n",
      "        [-1.0184, -0.4962, -0.3442, -0.4286,  0.2649],\n",
      "        [-0.9983,  0.1898,  1.9594, -0.4742, -0.1599]])\n"
     ]
    }
   ],
   "source": [
    "x = torch.randn(3,5)\n",
    "print(x)"
   ]
  },
  {
   "cell_type": "code",
   "execution_count": 57,
   "metadata": {
    "colab": {
     "base_uri": "https://localhost:8080/"
    },
    "executionInfo": {
     "elapsed": 3759,
     "status": "ok",
     "timestamp": 1618173224768,
     "user": {
      "displayName": "Lionel Fillatre",
      "photoUrl": "",
      "userId": "14463393848879581998"
     },
     "user_tz": -120
    },
    "id": "lfgpO7kUgC9z",
    "outputId": "a1fca040-389f-487c-c8d9-64d5b7bda8f1"
   },
   "outputs": [
    {
     "name": "stdout",
     "output_type": "stream",
     "text": [
      "torch.Size([3, 5])\n"
     ]
    }
   ],
   "source": [
    "print(x.size())"
   ]
  },
  {
   "cell_type": "markdown",
   "metadata": {
    "id": "NNLzvVKigC92"
   },
   "source": [
    "torch.Size is in fact a [tuple](https://docs.python.org/3/tutorial/datastructures.html#tuples-and-sequences), so it supports the same operations."
   ]
  },
  {
   "cell_type": "code",
   "execution_count": 58,
   "metadata": {
    "colab": {
     "base_uri": "https://localhost:8080/"
    },
    "executionInfo": {
     "elapsed": 3752,
     "status": "ok",
     "timestamp": 1618173224768,
     "user": {
      "displayName": "Lionel Fillatre",
      "photoUrl": "",
      "userId": "14463393848879581998"
     },
     "user_tz": -120
    },
    "id": "W-o3sFH3gC92",
    "outputId": "d0a05a0a-7c00-46a4-d166-6d19456e07de"
   },
   "outputs": [
    {
     "data": {
      "text/plain": [
       "5"
      ]
     },
     "execution_count": 58,
     "metadata": {},
     "output_type": "execute_result"
    }
   ],
   "source": [
    "x.size()[1]"
   ]
  },
  {
   "cell_type": "code",
   "execution_count": 59,
   "metadata": {
    "colab": {
     "base_uri": "https://localhost:8080/"
    },
    "executionInfo": {
     "elapsed": 3745,
     "status": "ok",
     "timestamp": 1618173224769,
     "user": {
      "displayName": "Lionel Fillatre",
      "photoUrl": "",
      "userId": "14463393848879581998"
     },
     "user_tz": -120
    },
    "id": "LkQAasgtgC95",
    "outputId": "9ca095fe-e2bb-4bb6-f9ea-6aa01eb7d9c6"
   },
   "outputs": [
    {
     "data": {
      "text/plain": [
       "True"
      ]
     },
     "execution_count": 59,
     "metadata": {},
     "output_type": "execute_result"
    }
   ],
   "source": [
    "x.size() == (3,5)"
   ]
  },
  {
   "cell_type": "markdown",
   "metadata": {
    "id": "GDufwT0Kstxv"
   },
   "source": [
    "Importance of the brackets when defining a tensor"
   ]
  },
  {
   "cell_type": "code",
   "execution_count": 60,
   "metadata": {
    "colab": {
     "base_uri": "https://localhost:8080/"
    },
    "executionInfo": {
     "elapsed": 3739,
     "status": "ok",
     "timestamp": 1618173224770,
     "user": {
      "displayName": "Lionel Fillatre",
      "photoUrl": "",
      "userId": "14463393848879581998"
     },
     "user_tz": -120
    },
    "id": "wa9IPaaqsaPg",
    "outputId": "8d10c0fa-9934-4dc8-e2d8-2be46c75ae12"
   },
   "outputs": [
    {
     "name": "stdout",
     "output_type": "stream",
     "text": [
      "<class 'torch.Tensor'>\n",
      "torch.float32\n",
      "torch.Size([1])\n",
      "<class 'torch.Tensor'>\n",
      "torch.float32\n",
      "torch.Size([])\n"
     ]
    }
   ],
   "source": [
    "a = torch.tensor([2.0])\n",
    "print(type(a))\n",
    "print(a.dtype)\n",
    "print(a.size())\n",
    "\n",
    "b = torch.tensor(2.0)\n",
    "print(type(b))\n",
    "print(b.dtype)\n",
    "print(b.size())"
   ]
  },
  {
   "cell_type": "markdown",
   "metadata": {
    "id": "XeAg1TcMhyf4"
   },
   "source": [
    "Select some columns"
   ]
  },
  {
   "cell_type": "code",
   "execution_count": 61,
   "metadata": {
    "colab": {
     "base_uri": "https://localhost:8080/"
    },
    "executionInfo": {
     "elapsed": 3731,
     "status": "ok",
     "timestamp": 1618173224770,
     "user": {
      "displayName": "Lionel Fillatre",
      "photoUrl": "",
      "userId": "14463393848879581998"
     },
     "user_tz": -120
    },
    "id": "DZaC-fXlgY6G",
    "outputId": "793d0a6c-7950-41d8-f57b-298bef1fb396"
   },
   "outputs": [
    {
     "name": "stdout",
     "output_type": "stream",
     "text": [
      "tensor([False, False, False, False, False])\n",
      "tensor([False,  True, False, False,  True])\n",
      "tensor([[ 1.2266,  0.4935],\n",
      "        [-0.4962,  0.2649],\n",
      "        [ 0.1898, -0.1599]])\n"
     ]
    }
   ],
   "source": [
    "cols = torch.zeros(5, dtype=torch.bool)\n",
    "print(cols)\n",
    "cols[1] = True\n",
    "cols[4] = True\n",
    "print(cols)\n",
    "c = x[:, cols]  # selects all rows, 4th column and  5th column from a\n",
    "print(c)"
   ]
  },
  {
   "cell_type": "markdown",
   "metadata": {
    "id": "t9v3syrRf-13"
   },
   "source": [
    "All operations on the tensor that operate in-place on it will have an _ postfix. "
   ]
  },
  {
   "cell_type": "code",
   "execution_count": 62,
   "metadata": {
    "colab": {
     "base_uri": "https://localhost:8080/"
    },
    "executionInfo": {
     "elapsed": 3725,
     "status": "ok",
     "timestamp": 1618173224771,
     "user": {
      "displayName": "Lionel Fillatre",
      "photoUrl": "",
      "userId": "14463393848879581998"
     },
     "user_tz": -120
    },
    "id": "zr3PP5oVf1SV",
    "outputId": "c369bf92-65a4-4486-b2e4-f21ed497318c"
   },
   "outputs": [
    {
     "name": "stdout",
     "output_type": "stream",
     "text": [
      "tensor([[3.5000, 3.5000, 3.5000, 3.5000, 3.5000],\n",
      "        [3.5000, 3.5000, 3.5000, 3.5000, 3.5000],\n",
      "        [3.5000, 3.5000, 3.5000, 3.5000, 3.5000]])\n"
     ]
    }
   ],
   "source": [
    "# x will be filled with the value 3.5\n",
    "x.fill_(3.5)\n",
    "print(x)"
   ]
  },
  {
   "cell_type": "markdown",
   "metadata": {
    "id": "SXPtlUXsgC96"
   },
   "source": [
    "## Bridge to numpy"
   ]
  },
  {
   "cell_type": "code",
   "execution_count": 63,
   "metadata": {
    "colab": {
     "base_uri": "https://localhost:8080/"
    },
    "executionInfo": {
     "elapsed": 4068,
     "status": "ok",
     "timestamp": 1618173225122,
     "user": {
      "displayName": "Lionel Fillatre",
      "photoUrl": "",
      "userId": "14463393848879581998"
     },
     "user_tz": -120
    },
    "id": "61srdUzCgC97",
    "outputId": "34a1489a-7ed4-469a-a773-78da7e831ad7"
   },
   "outputs": [
    {
     "name": "stdout",
     "output_type": "stream",
     "text": [
      "<class 'numpy.ndarray'>\n",
      "[[3.5 3.5 3.5 3.5 3.5]\n",
      " [3.5 3.5 3.5 3.5 3.5]\n",
      " [3.5 3.5 3.5 3.5 3.5]]\n"
     ]
    }
   ],
   "source": [
    "y = x.numpy()   # To convert from tensor to a numpy ndarray\n",
    "print(type(y))\n",
    "print(y)"
   ]
  },
  {
   "cell_type": "code",
   "execution_count": 64,
   "metadata": {
    "colab": {
     "base_uri": "https://localhost:8080/"
    },
    "executionInfo": {
     "elapsed": 4062,
     "status": "ok",
     "timestamp": 1618173225123,
     "user": {
      "displayName": "Lionel Fillatre",
      "photoUrl": "",
      "userId": "14463393848879581998"
     },
     "user_tz": -120
    },
    "id": "tFv5BzYsgC99",
    "outputId": "df0fc25f-2502-433e-ed19-bdd63fe2edb7"
   },
   "outputs": [
    {
     "name": "stdout",
     "output_type": "stream",
     "text": [
      "<class 'torch.Tensor'>\n",
      "tensor([1., 1., 1., 1., 1.], dtype=torch.float64)\n"
     ]
    }
   ],
   "source": [
    "a = np.ones(5)\n",
    "b = torch.from_numpy(a) # To convert from a numbpy to a tensor\n",
    "print(type(b))\n",
    "print(b)\n",
    " "
   ]
  },
  {
   "cell_type": "code",
   "execution_count": 65,
   "metadata": {
    "colab": {
     "base_uri": "https://localhost:8080/"
    },
    "executionInfo": {
     "elapsed": 4053,
     "status": "ok",
     "timestamp": 1618173225123,
     "user": {
      "displayName": "Lionel Fillatre",
      "photoUrl": "",
      "userId": "14463393848879581998"
     },
     "user_tz": -120
    },
    "id": "lfpk2tfpgC9-",
    "outputId": "aaa34709-130b-475a-86ee-16cdc23d19a0"
   },
   "outputs": [
    {
     "name": "stdout",
     "output_type": "stream",
     "text": [
      "tensor([[ 0.1323, -0.7590,  0.6170, -1.2727,  0.2881],\n",
      "        [-0.2437,  0.3502,  0.1910, -1.2139, -1.3700],\n",
      "        [-0.6215,  1.3088, -0.1206,  1.1545,  1.6304]])\n",
      "tensor([1, 1, 1, 1, 1], dtype=torch.int32)\n"
     ]
    }
   ],
   "source": [
    "xr = torch.randn(3, 5)\n",
    "a = np.ones(5).astype(int)\n",
    "b = torch.from_numpy(a)\n",
    "print(xr)\n",
    "print(b)"
   ]
  },
  {
   "cell_type": "markdown",
   "metadata": {
    "id": "C6sKTTlZ0RmP"
   },
   "source": [
    "### Question: print the type of the content (data) of variables a, b and xr"
   ]
  },
  {
   "cell_type": "code",
   "execution_count": 66,
   "metadata": {
    "executionInfo": {
     "elapsed": 4052,
     "status": "ok",
     "timestamp": 1618173225124,
     "user": {
      "displayName": "Lionel Fillatre",
      "photoUrl": "",
      "userId": "14463393848879581998"
     },
     "user_tz": -120
    },
    "id": "k07dBWLRxARt"
   },
   "outputs": [
    {
     "name": "stdout",
     "output_type": "stream",
     "text": [
      "int32\n",
      "torch.int32\n",
      "torch.float32\n"
     ]
    }
   ],
   "source": [
    "# COMPLETE THE CELL\n",
    "# ...\n",
    "print(a.dtype)\n",
    "print(b.dtype)\n",
    "print(xr.dtype)"
   ]
  },
  {
   "cell_type": "markdown",
   "metadata": {
    "id": "7fwWdAYjUuiN"
   },
   "source": [
    "## Operations\n",
    "\n",
    "There are multiple syntaxes for operations. In the following\n",
    "example, we will take a look at the addition operation.\n",
    "\n",
    "Addition: syntax 1"
   ]
  },
  {
   "cell_type": "code",
   "execution_count": 67,
   "metadata": {
    "colab": {
     "base_uri": "https://localhost:8080/"
    },
    "executionInfo": {
     "elapsed": 4044,
     "status": "ok",
     "timestamp": 1618173225124,
     "user": {
      "displayName": "Lionel Fillatre",
      "photoUrl": "",
      "userId": "14463393848879581998"
     },
     "user_tz": -120
    },
    "id": "4iASmmTAUxG0",
    "outputId": "cb9ff0c4-406d-4411-8b2d-c49d1ddddc34"
   },
   "outputs": [
    {
     "name": "stdout",
     "output_type": "stream",
     "text": [
      "tensor([[0.5600, 1.0282, 1.4520],\n",
      "        [0.4611, 1.3812, 0.5435],\n",
      "        [0.9340, 1.7509, 0.9555],\n",
      "        [0.9082, 1.4405, 0.8193],\n",
      "        [1.1999, 1.6355, 1.1304]])\n"
     ]
    }
   ],
   "source": [
    "x = torch.rand(5, 3) \n",
    "y = torch.rand(5, 3)\n",
    "print(x + y)"
   ]
  },
  {
   "cell_type": "markdown",
   "metadata": {
    "id": "H5NxjdPhVQP8"
   },
   "source": [
    "Addition: syntax 2"
   ]
  },
  {
   "cell_type": "code",
   "execution_count": 68,
   "metadata": {
    "colab": {
     "base_uri": "https://localhost:8080/"
    },
    "executionInfo": {
     "elapsed": 4038,
     "status": "ok",
     "timestamp": 1618173225125,
     "user": {
      "displayName": "Lionel Fillatre",
      "photoUrl": "",
      "userId": "14463393848879581998"
     },
     "user_tz": -120
    },
    "id": "GwCo8DOcVRHq",
    "outputId": "3b63369a-5b58-426f-8aa7-8bc9023d15cd"
   },
   "outputs": [
    {
     "name": "stdout",
     "output_type": "stream",
     "text": [
      "tensor([[0.5600, 1.0282, 1.4520],\n",
      "        [0.4611, 1.3812, 0.5435],\n",
      "        [0.9340, 1.7509, 0.9555],\n",
      "        [0.9082, 1.4405, 0.8193],\n",
      "        [1.1999, 1.6355, 1.1304]])\n"
     ]
    }
   ],
   "source": [
    "print(torch.add(x, y))"
   ]
  },
  {
   "cell_type": "markdown",
   "metadata": {
    "id": "wNuL3H61VZvS"
   },
   "source": [
    "Addition: providing an output tensor as argument"
   ]
  },
  {
   "cell_type": "code",
   "execution_count": 69,
   "metadata": {
    "colab": {
     "base_uri": "https://localhost:8080/"
    },
    "executionInfo": {
     "elapsed": 4031,
     "status": "ok",
     "timestamp": 1618173225125,
     "user": {
      "displayName": "Lionel Fillatre",
      "photoUrl": "",
      "userId": "14463393848879581998"
     },
     "user_tz": -120
    },
    "id": "hX1ffSunVail",
    "outputId": "63807e39-3837-43ac-f048-ab518fe6a767"
   },
   "outputs": [
    {
     "name": "stdout",
     "output_type": "stream",
     "text": [
      "tensor([[0.5600, 1.0282, 1.4520],\n",
      "        [0.4611, 1.3812, 0.5435],\n",
      "        [0.9340, 1.7509, 0.9555],\n",
      "        [0.9082, 1.4405, 0.8193],\n",
      "        [1.1999, 1.6355, 1.1304]])\n"
     ]
    }
   ],
   "source": [
    "result = torch.empty(5, 3)\n",
    "torch.add(x, y, out=result)\n",
    "print(result)"
   ]
  },
  {
   "cell_type": "markdown",
   "metadata": {
    "id": "-VK0_f0rVejB"
   },
   "source": [
    "Addition: in-place"
   ]
  },
  {
   "cell_type": "code",
   "execution_count": 70,
   "metadata": {
    "colab": {
     "base_uri": "https://localhost:8080/"
    },
    "executionInfo": {
     "elapsed": 4025,
     "status": "ok",
     "timestamp": 1618173225126,
     "user": {
      "displayName": "Lionel Fillatre",
      "photoUrl": "",
      "userId": "14463393848879581998"
     },
     "user_tz": -120
    },
    "id": "rj0GKMgSVlGV",
    "outputId": "02d74a7d-6c3c-4b37-d6d9-82b863d33488"
   },
   "outputs": [
    {
     "name": "stdout",
     "output_type": "stream",
     "text": [
      "tensor([[0.5600, 1.0282, 1.4520],\n",
      "        [0.4611, 1.3812, 0.5435],\n",
      "        [0.9340, 1.7509, 0.9555],\n",
      "        [0.9082, 1.4405, 0.8193],\n",
      "        [1.1999, 1.6355, 1.1304]])\n"
     ]
    }
   ],
   "source": [
    "# adds x to y\n",
    "y.add_(x)\n",
    "print(y)"
   ]
  },
  {
   "cell_type": "markdown",
   "metadata": {
    "id": "EgNBadgeVscS"
   },
   "source": [
    "**Note:** Any operation that mutates a tensor in-place is post-fixed with an ``_``.\n",
    "    For example: ``x.copy_(y)``, ``x.t_()``, will change ``x``.\n",
    "\n"
   ]
  },
  {
   "cell_type": "markdown",
   "metadata": {
    "id": "kOPtMoOkgC-G"
   },
   "source": [
    "Any operation that mutates a tensor in-place is post-fixed with an ```_```\n",
    "\n",
    "For example: ```x.copy_(y)```, ```x.t_()```, will change ```x```."
   ]
  },
  {
   "cell_type": "code",
   "execution_count": 71,
   "metadata": {
    "colab": {
     "base_uri": "https://localhost:8080/"
    },
    "executionInfo": {
     "elapsed": 4018,
     "status": "ok",
     "timestamp": 1618173225126,
     "user": {
      "displayName": "Lionel Fillatre",
      "photoUrl": "",
      "userId": "14463393848879581998"
     },
     "user_tz": -120
    },
    "id": "hrOV0mQIgC-G",
    "outputId": "ea5b883e-6fa2-41c1-e0b4-76060a5cc838"
   },
   "outputs": [
    {
     "name": "stdout",
     "output_type": "stream",
     "text": [
      "tensor([[0.2519, 0.3570, 0.5361, 0.7338, 0.5936],\n",
      "        [0.1794, 0.7562, 0.9271, 0.7675, 0.7895],\n",
      "        [0.9897, 0.2899, 0.8318, 0.7951, 0.3226]])\n"
     ]
    }
   ],
   "source": [
    "print(x.t())"
   ]
  },
  {
   "cell_type": "code",
   "execution_count": 72,
   "metadata": {
    "colab": {
     "base_uri": "https://localhost:8080/"
    },
    "executionInfo": {
     "elapsed": 4012,
     "status": "ok",
     "timestamp": 1618173225127,
     "user": {
      "displayName": "Lionel Fillatre",
      "photoUrl": "",
      "userId": "14463393848879581998"
     },
     "user_tz": -120
    },
    "id": "LfNnD4vSgC-H",
    "outputId": "c83aa03e-3fee-46a9-cf22-6250f52b7cf7"
   },
   "outputs": [
    {
     "name": "stdout",
     "output_type": "stream",
     "text": [
      "tensor([[0.2519, 0.1794, 0.9897],\n",
      "        [0.3570, 0.7562, 0.2899],\n",
      "        [0.5361, 0.9271, 0.8318],\n",
      "        [0.7338, 0.7675, 0.7951],\n",
      "        [0.5936, 0.7895, 0.3226]])\n"
     ]
    }
   ],
   "source": [
    "print(x)"
   ]
  },
  {
   "cell_type": "code",
   "execution_count": 73,
   "metadata": {
    "colab": {
     "base_uri": "https://localhost:8080/"
    },
    "executionInfo": {
     "elapsed": 4005,
     "status": "ok",
     "timestamp": 1618173225127,
     "user": {
      "displayName": "Lionel Fillatre",
      "photoUrl": "",
      "userId": "14463393848879581998"
     },
     "user_tz": -120
    },
    "id": "5YdHeI8lgC-I",
    "outputId": "2d745f10-738c-4c79-fa6b-079e0ee07185"
   },
   "outputs": [
    {
     "name": "stdout",
     "output_type": "stream",
     "text": [
      "tensor([[0.2519, 0.3570, 0.5361, 0.7338, 0.5936],\n",
      "        [0.1794, 0.7562, 0.9271, 0.7675, 0.7895],\n",
      "        [0.9897, 0.2899, 0.8318, 0.7951, 0.3226]])\n"
     ]
    }
   ],
   "source": [
    "x.t_()\n",
    "print(x)"
   ]
  },
  {
   "cell_type": "markdown",
   "metadata": {
    "id": "UfxHIL-mWyZl"
   },
   "source": [
    "You can use standard NumPy-like indexing with all bells and whistles!"
   ]
  },
  {
   "cell_type": "code",
   "execution_count": 74,
   "metadata": {
    "colab": {
     "base_uri": "https://localhost:8080/"
    },
    "executionInfo": {
     "elapsed": 3999,
     "status": "ok",
     "timestamp": 1618173225128,
     "user": {
      "displayName": "Lionel Fillatre",
      "photoUrl": "",
      "userId": "14463393848879581998"
     },
     "user_tz": -120
    },
    "id": "Cz4M97B2Wtyu",
    "outputId": "d6c92e2a-d9b3-4d1c-b838-0d79bef059d6"
   },
   "outputs": [
    {
     "name": "stdout",
     "output_type": "stream",
     "text": [
      "tensor([0.3570, 0.7562, 0.2899])\n"
     ]
    }
   ],
   "source": [
    "print(x[:, 1])"
   ]
  },
  {
   "cell_type": "markdown",
   "metadata": {
    "id": "M6tsVH8zW8yB"
   },
   "source": [
    "Resizing (very useful): If you want to resize/reshape tensor, you can use ``torch.view``:"
   ]
  },
  {
   "cell_type": "code",
   "execution_count": 75,
   "metadata": {
    "colab": {
     "base_uri": "https://localhost:8080/"
    },
    "executionInfo": {
     "elapsed": 3993,
     "status": "ok",
     "timestamp": 1618173225129,
     "user": {
      "displayName": "Lionel Fillatre",
      "photoUrl": "",
      "userId": "14463393848879581998"
     },
     "user_tz": -120
    },
    "id": "k0qjaFPDW_3I",
    "outputId": "faeca350-d894-42e3-ca52-a045e4e38050"
   },
   "outputs": [
    {
     "name": "stdout",
     "output_type": "stream",
     "text": [
      "torch.Size([4, 4]) torch.Size([16]) torch.Size([2, 8])\n"
     ]
    }
   ],
   "source": [
    "x = torch.randn(4, 4)\n",
    "y = x.view(16)\n",
    "z = x.view(-1, 8)  # the size -1 is inferred from other dimensions\n",
    "print(x.size(), y.size(), z.size())"
   ]
  },
  {
   "cell_type": "markdown",
   "metadata": {
    "id": "fP8sTTCgXRak"
   },
   "source": [
    "If you have a one element tensor, use ``.item()`` to get the value as a\n",
    "Python number"
   ]
  },
  {
   "cell_type": "code",
   "execution_count": 76,
   "metadata": {
    "colab": {
     "base_uri": "https://localhost:8080/"
    },
    "executionInfo": {
     "elapsed": 3985,
     "status": "ok",
     "timestamp": 1618173225129,
     "user": {
      "displayName": "Lionel Fillatre",
      "photoUrl": "",
      "userId": "14463393848879581998"
     },
     "user_tz": -120
    },
    "id": "zaG9x6SHXSPw",
    "outputId": "31771397-befc-4dab-bea0-c24ddcc17c42"
   },
   "outputs": [
    {
     "name": "stdout",
     "output_type": "stream",
     "text": [
      "tensor([-0.8963])\n",
      "-0.8962511420249939\n"
     ]
    }
   ],
   "source": [
    "x = torch.randn(1)\n",
    "print(x)\n",
    "print(x.item())"
   ]
  },
  {
   "cell_type": "markdown",
   "metadata": {
    "id": "mqCvPrp-XmZQ"
   },
   "source": [
    "**Read later:**\n",
    "\n",
    "\n",
    "  100+ Tensor operations, including transposing, indexing, slicing,\n",
    "  mathematical operations, linear algebra, random numbers, etc.,\n",
    "  are described\n",
    "  [here](https://pytorch.org/docs/torch)."
   ]
  },
  {
   "cell_type": "markdown",
   "metadata": {
    "id": "8Jk-JGYpeCNz"
   },
   "source": [
    "## 3D Tensors"
   ]
  },
  {
   "cell_type": "markdown",
   "metadata": {
    "id": "RTGbU2E-eLWF"
   },
   "source": [
    "### Question: What is the size of the following tensor?"
   ]
  },
  {
   "cell_type": "code",
   "execution_count": 77,
   "metadata": {
    "colab": {
     "base_uri": "https://localhost:8080/"
    },
    "executionInfo": {
     "elapsed": 3978,
     "status": "ok",
     "timestamp": 1618173225130,
     "user": {
      "displayName": "Lionel Fillatre",
      "photoUrl": "",
      "userId": "14463393848879581998"
     },
     "user_tz": -120
    },
    "id": "d-Dg4nyOeD4f",
    "outputId": "9db2c697-3db1-49a3-b227-81fc9049f3f9"
   },
   "outputs": [
    {
     "name": "stdout",
     "output_type": "stream",
     "text": [
      "tensor([[[1, 2, 3],\n",
      "         [4, 5, 6]],\n",
      "\n",
      "        [[1, 2, 3],\n",
      "         [4, 5, 6]],\n",
      "\n",
      "        [[1, 2, 3],\n",
      "         [4, 5, 6]]])\n"
     ]
    }
   ],
   "source": [
    "y = torch.tensor([\n",
    "     [\n",
    "       [1, 2, 3],\n",
    "       [4, 5, 6]\n",
    "     ],\n",
    "     [\n",
    "       [1, 2, 3],\n",
    "       [4, 5, 6]\n",
    "     ],\n",
    "     [\n",
    "       [1, 2, 3],\n",
    "       [4, 5, 6]\n",
    "     ]\n",
    "   ])\n",
    "print(y)"
   ]
  },
  {
   "cell_type": "code",
   "execution_count": 78,
   "metadata": {
    "executionInfo": {
     "elapsed": 3977,
     "status": "ok",
     "timestamp": 1618173225131,
     "user": {
      "displayName": "Lionel Fillatre",
      "photoUrl": "",
      "userId": "14463393848879581998"
     },
     "user_tz": -120
    },
    "id": "2gBU82BTe0_y"
   },
   "outputs": [
    {
     "name": "stdout",
     "output_type": "stream",
     "text": [
      "torch.Size([3, 2, 3])\n"
     ]
    }
   ],
   "source": [
    "# COMPLETE THE CELL\n",
    "# ...\n",
    "print(y.size())"
   ]
  },
  {
   "cell_type": "markdown",
   "metadata": {
    "id": "dOUGbVEUe9DC"
   },
   "source": [
    "### Question: Explain the result of the next cell"
   ]
  },
  {
   "cell_type": "code",
   "execution_count": 79,
   "metadata": {
    "colab": {
     "base_uri": "https://localhost:8080/"
    },
    "executionInfo": {
     "elapsed": 3970,
     "status": "ok",
     "timestamp": 1618173225131,
     "user": {
      "displayName": "Lionel Fillatre",
      "photoUrl": "",
      "userId": "14463393848879581998"
     },
     "user_tz": -120
    },
    "id": "14O04VMTe9eg",
    "outputId": "8ca7c27a-5e18-4656-f926-fb110a06c15a"
   },
   "outputs": [
    {
     "data": {
      "text/plain": [
       "tensor([[ 3,  6,  9],\n",
       "        [12, 15, 18]])"
      ]
     },
     "execution_count": 79,
     "metadata": {},
     "output_type": "execute_result"
    }
   ],
   "source": [
    "torch.sum(y, dim=0)  #compute the sum toward the first dimension of y"
   ]
  },
  {
   "cell_type": "markdown",
   "metadata": {
    "id": "Ev68h5j1ZUNH"
   },
   "source": [
    "## Broadcasting semantics\n",
    "\n",
    "In short, if a PyTorch operation supports broadcast, then its Tensor arguments can be automatically expanded to be of equal sizes (without making copies of the data).\n",
    "\n",
    "Two tensors are “broadcastable” if the following rules hold:\n",
    "\n",
    "*   Each tensor has at least one dimension.\n",
    "*   When iterating over the dimension sizes, **starting at the trailing dimension**, the dimension sizes must either be equal, one of them is 1, or one of them does not exist.\n",
    "\n",
    "If two tensors x, y are “broadcastable”, the resulting tensor size is calculated as follows:\n",
    "* If the number of dimensions of x and y are not equal, prepend 1 to the dimensions of the tensor with fewer dimensions to make them equal length.\n",
    "* Then, for each dimension size, the resulting dimension size is the max of the sizes of x and y along that dimension.\n",
    "\n",
    "More details [here](https://pytorch.org/docs/stable/notes/broadcasting.html)\n",
    "\n"
   ]
  },
  {
   "cell_type": "code",
   "execution_count": 80,
   "metadata": {
    "colab": {
     "base_uri": "https://localhost:8080/"
    },
    "executionInfo": {
     "elapsed": 3964,
     "status": "ok",
     "timestamp": 1618173225132,
     "user": {
      "displayName": "Lionel Fillatre",
      "photoUrl": "",
      "userId": "14463393848879581998"
     },
     "user_tz": -120
    },
    "id": "P3f9hXLxZXQa",
    "outputId": "31d02f92-3d86-47f5-b52d-01973ce10cc2"
   },
   "outputs": [
    {
     "name": "stdout",
     "output_type": "stream",
     "text": [
      "torch.Size([5, 3, 4, 1])\n"
     ]
    }
   ],
   "source": [
    "# can line up trailing dimensions to make reading easier\n",
    "x=torch.empty(5,1,4,1)\n",
    "y=torch.empty(  3,1,1)\n",
    "print((x+y).size())\n",
    "\n"
   ]
  },
  {
   "cell_type": "code",
   "execution_count": 81,
   "metadata": {
    "colab": {
     "base_uri": "https://localhost:8080/"
    },
    "executionInfo": {
     "elapsed": 4170,
     "status": "ok",
     "timestamp": 1618173225345,
     "user": {
      "displayName": "Lionel Fillatre",
      "photoUrl": "",
      "userId": "14463393848879581998"
     },
     "user_tz": -120
    },
    "id": "LsYo7aBqaJ5F",
    "outputId": "46185aea-ca54-4484-ef62-f1faab308c21"
   },
   "outputs": [
    {
     "name": "stdout",
     "output_type": "stream",
     "text": [
      "torch.Size([3, 1, 7])\n"
     ]
    }
   ],
   "source": [
    "# but not necessary:\n",
    "x=torch.empty(1)\n",
    "y=torch.empty(3,1,7)\n",
    "print((x+y).size())\n",
    "\n"
   ]
  },
  {
   "cell_type": "markdown",
   "metadata": {
    "id": "0n_Y_hY6fxeL"
   },
   "source": [
    "### Question: The following command does not work. Why?\n",
    "\n"
   ]
  },
  {
   "cell_type": "code",
   "execution_count": 82,
   "metadata": {
    "colab": {
     "base_uri": "https://localhost:8080/",
     "height": 198
    },
    "executionInfo": {
     "elapsed": 4173,
     "status": "error",
     "timestamp": 1618173225356,
     "user": {
      "displayName": "Lionel Fillatre",
      "photoUrl": "",
      "userId": "14463393848879581998"
     },
     "user_tz": -120
    },
    "id": "Vq3SqanjaO6U",
    "outputId": "4459fc55-f69d-4b92-d936-e473a02c2cdd"
   },
   "outputs": [
    {
     "ename": "RuntimeError",
     "evalue": "The size of tensor a (2) must match the size of tensor b (3) at non-singleton dimension 1",
     "output_type": "error",
     "traceback": [
      "\u001B[1;31m---------------------------------------------------------------------------\u001B[0m",
      "\u001B[1;31mRuntimeError\u001B[0m                              Traceback (most recent call last)",
      "\u001B[1;32m~\\AppData\\Local\\Temp/ipykernel_6472/1985436864.py\u001B[0m in \u001B[0;36m<module>\u001B[1;34m\u001B[0m\n\u001B[0;32m      1\u001B[0m \u001B[0mx\u001B[0m\u001B[1;33m=\u001B[0m\u001B[0mtorch\u001B[0m\u001B[1;33m.\u001B[0m\u001B[0mempty\u001B[0m\u001B[1;33m(\u001B[0m\u001B[1;36m5\u001B[0m\u001B[1;33m,\u001B[0m\u001B[1;36m2\u001B[0m\u001B[1;33m,\u001B[0m\u001B[1;36m4\u001B[0m\u001B[1;33m,\u001B[0m\u001B[1;36m1\u001B[0m\u001B[1;33m)\u001B[0m\u001B[1;33m\u001B[0m\u001B[1;33m\u001B[0m\u001B[0m\n\u001B[0;32m      2\u001B[0m \u001B[0my\u001B[0m\u001B[1;33m=\u001B[0m\u001B[0mtorch\u001B[0m\u001B[1;33m.\u001B[0m\u001B[0mempty\u001B[0m\u001B[1;33m(\u001B[0m  \u001B[1;36m3\u001B[0m\u001B[1;33m,\u001B[0m\u001B[1;36m1\u001B[0m\u001B[1;33m,\u001B[0m\u001B[1;36m1\u001B[0m\u001B[1;33m)\u001B[0m\u001B[1;33m\u001B[0m\u001B[1;33m\u001B[0m\u001B[0m\n\u001B[1;32m----> 3\u001B[1;33m \u001B[0mprint\u001B[0m\u001B[1;33m(\u001B[0m\u001B[1;33m(\u001B[0m\u001B[0mx\u001B[0m\u001B[1;33m+\u001B[0m\u001B[0my\u001B[0m\u001B[1;33m)\u001B[0m\u001B[1;33m.\u001B[0m\u001B[0msize\u001B[0m\u001B[1;33m(\u001B[0m\u001B[1;33m)\u001B[0m\u001B[1;33m)\u001B[0m\u001B[1;33m\u001B[0m\u001B[1;33m\u001B[0m\u001B[0m\n\u001B[0m",
      "\u001B[1;31mRuntimeError\u001B[0m: The size of tensor a (2) must match the size of tensor b (3) at non-singleton dimension 1"
     ]
    }
   ],
   "source": [
    "x=torch.empty(5,2,4,1)\n",
    "y=torch.empty(  3,1,1)\n",
    "print((x+y).size())\n"
   ]
  },
  {
   "cell_type": "code",
   "execution_count": 83,
   "metadata": {
    "executionInfo": {
     "elapsed": 4155,
     "status": "aborted",
     "timestamp": 1618173225346,
     "user": {
      "displayName": "Lionel Fillatre",
      "photoUrl": "",
      "userId": "14463393848879581998"
     },
     "user_tz": -120
    },
    "id": "ha4-WRJ0g4l9"
   },
   "outputs": [
    {
     "name": "stdout",
     "output_type": "stream",
     "text": [
      "tensor([[[3., 3., 3., 3.],\n",
      "         [3., 3., 3., 3.]],\n",
      "\n",
      "        [[3., 3., 3., 3.],\n",
      "         [3., 3., 3., 3.]],\n",
      "\n",
      "        [[3., 3., 3., 3.],\n",
      "         [3., 3., 3., 3.]]])\n"
     ]
    }
   ],
   "source": [
    "x=2*torch.ones(  2,4)\n",
    "y=torch.ones(3,2,4)\n",
    "print(x+y)"
   ]
  },
  {
   "cell_type": "markdown",
   "metadata": {
    "id": "Afol8pk8VPUn"
   },
   "source": [
    "### Question: What is the diffence between \"x = xr\" and \"x = xr.clone()\"? "
   ]
  },
  {
   "cell_type": "code",
   "execution_count": 84,
   "metadata": {
    "executionInfo": {
     "elapsed": 4147,
     "status": "aborted",
     "timestamp": 1618173225346,
     "user": {
      "displayName": "Lionel Fillatre",
      "photoUrl": "",
      "userId": "14463393848879581998"
     },
     "user_tz": -120
    },
    "id": "ROIvJcOngC-E"
   },
   "outputs": [
    {
     "name": "stdout",
     "output_type": "stream",
     "text": [
      "tensor([[0., 0., 0., 0., 0.],\n",
      "        [0., 0., 0., 0., 0.],\n",
      "        [0., 0., 0., 0., 0.]])\n",
      "tensor([[ 0.1323, -0.7590,  0.6170, -1.2727,  0.2881],\n",
      "        [-0.2437,  0.3502,  0.1910, -1.2139, -1.3700],\n",
      "        [-0.6215,  1.3088, -0.1206,  1.1545,  1.6304]])\n"
     ]
    }
   ],
   "source": [
    "x = xr.clone()\n",
    "x.add_(-xr)\n",
    "print(x)\n",
    "print(xr)"
   ]
  },
  {
   "cell_type": "code",
   "execution_count": 85,
   "metadata": {},
   "outputs": [
    {
     "name": "stdout",
     "output_type": "stream",
     "text": [
      "tensor([[0., 0., 0., 0., 0.],\n",
      "        [0., 0., 0., 0., 0.],\n",
      "        [0., 0., 0., 0., 0.]])\n",
      "tensor([[0., 0., 0., 0., 0.],\n",
      "        [0., 0., 0., 0., 0.],\n",
      "        [0., 0., 0., 0., 0.]])\n"
     ]
    }
   ],
   "source": [
    "x = xr\n",
    "x.add_(-xr)\n",
    "print(x)\n",
    "print(xr)"
   ]
  },
  {
   "cell_type": "markdown",
   "metadata": {
    "id": "UWxZLzMrgC-J"
   },
   "source": [
    "Also be careful, changing the torch tensor modify the numpy array and vice-versa..."
   ]
  },
  {
   "cell_type": "code",
   "execution_count": 86,
   "metadata": {
    "executionInfo": {
     "elapsed": 4140,
     "status": "aborted",
     "timestamp": 1618173225347,
     "user": {
      "displayName": "Lionel Fillatre",
      "photoUrl": "",
      "userId": "14463393848879581998"
     },
     "user_tz": -120
    },
    "id": "lkcW43iugC-J"
   },
   "outputs": [
    {
     "name": "stdout",
     "output_type": "stream",
     "text": [
      "tensor([[1., 1., 1., 1.],\n",
      "        [1., 1., 1., 1.]])\n",
      "[[1. 1. 1. 1.]\n",
      " [1. 1. 1. 1.]]\n"
     ]
    }
   ],
   "source": [
    "y=torch.ones(2,4)\n",
    "print(y)\n",
    "z = y.numpy()\n",
    "print(z)"
   ]
  },
  {
   "cell_type": "code",
   "execution_count": 87,
   "metadata": {
    "executionInfo": {
     "elapsed": 4133,
     "status": "aborted",
     "timestamp": 1618173225347,
     "user": {
      "displayName": "Lionel Fillatre",
      "photoUrl": "",
      "userId": "14463393848879581998"
     },
     "user_tz": -120
    },
    "id": "qvRrtvz1gC-K"
   },
   "outputs": [
    {
     "name": "stdout",
     "output_type": "stream",
     "text": [
      "z= [[2. 2. 2. 2.]\n",
      " [2. 2. 2. 2.]]\n",
      "y= tensor([[2., 2., 2., 2.],\n",
      "        [2., 2., 2., 2.]]) \n",
      "\n",
      "z= [[-2. -2. -2. -2.]\n",
      " [-2. -2. -2. -2.]]\n",
      "y= tensor([[-2., -2., -2., -2.],\n",
      "        [-2., -2., -2., -2.]])\n"
     ]
    }
   ],
   "source": [
    "np.add(z, 1, out=z)\n",
    "print(\"z=\", z)\n",
    "print(\"y=\", y,\"\\n\")\n",
    "torch.add(y, -4, out=y)\n",
    "print(\"z=\",z)\n",
    "print(\"y=\",y)"
   ]
  },
  {
   "cell_type": "markdown",
   "metadata": {
    "id": "AmGizC3pMbm8"
   },
   "source": [
    "## Computational graphs"
   ]
  },
  {
   "cell_type": "code",
   "execution_count": 88,
   "metadata": {
    "executionInfo": {
     "elapsed": 4132,
     "status": "aborted",
     "timestamp": 1618173225348,
     "user": {
      "displayName": "Lionel Fillatre",
      "photoUrl": "",
      "userId": "14463393848879581998"
     },
     "user_tz": -120
    },
    "id": "O5Kw7MQpMxWB"
   },
   "outputs": [],
   "source": [
    "import matplotlib.pyplot as plt\n",
    "%matplotlib inline\n",
    "import torch"
   ]
  },
  {
   "cell_type": "code",
   "execution_count": 89,
   "metadata": {
    "executionInfo": {
     "elapsed": 4126,
     "status": "aborted",
     "timestamp": 1618173225349,
     "user": {
      "displayName": "Lionel Fillatre",
      "photoUrl": "",
      "userId": "14463393848879581998"
     },
     "user_tz": -120
    },
    "id": "2Gza10WeM10G"
   },
   "outputs": [],
   "source": [
    "#!pip install torchviz"
   ]
  },
  {
   "cell_type": "code",
   "execution_count": 90,
   "metadata": {
    "executionInfo": {
     "elapsed": 4124,
     "status": "aborted",
     "timestamp": 1618173225349,
     "user": {
      "displayName": "Lionel Fillatre",
      "photoUrl": "",
      "userId": "14463393848879581998"
     },
     "user_tz": -120
    },
    "id": "1nEbmC7TM1mw"
   },
   "outputs": [],
   "source": [
    "import torchviz"
   ]
  },
  {
   "cell_type": "code",
   "execution_count": 91,
   "metadata": {
    "executionInfo": {
     "elapsed": 4118,
     "status": "aborted",
     "timestamp": 1618173225350,
     "user": {
      "displayName": "Lionel Fillatre",
      "photoUrl": "",
      "userId": "14463393848879581998"
     },
     "user_tz": -120
    },
    "id": "5Z2dMtEOMuWb"
   },
   "outputs": [
    {
     "name": "stdout",
     "output_type": "stream",
     "text": [
      "tensor([[1., 1.],\n",
      "        [1., 1.]], requires_grad=True)\n",
      "tensor([[0.7479]], requires_grad=True)\n",
      "tensor([[2.7479, 2.7479],\n",
      "        [2.7479, 2.7479]], grad_fn=<AddBackward0>)\n"
     ]
    },
    {
     "data": {
      "image/svg+xml": [
       "<?xml version=\"1.0\" encoding=\"UTF-8\" standalone=\"no\"?>\r\n",
       "<!DOCTYPE svg PUBLIC \"-//W3C//DTD SVG 1.1//EN\"\r\n",
       " \"http://www.w3.org/Graphics/SVG/1.1/DTD/svg11.dtd\">\r\n",
       "<!-- Generated by graphviz version 2.49.3 (20211023.0002)\r\n",
       " -->\r\n",
       "<!-- Pages: 1 -->\r\n",
       "<svg width=\"228pt\" height=\"271pt\"\r\n",
       " viewBox=\"0.00 0.00 228.00 271.00\" xmlns=\"http://www.w3.org/2000/svg\" xmlns:xlink=\"http://www.w3.org/1999/xlink\">\r\n",
       "<g id=\"graph0\" class=\"graph\" transform=\"scale(1 1) rotate(0) translate(4 267)\">\r\n",
       "<polygon fill=\"white\" stroke=\"transparent\" points=\"-4,4 -4,-267 224,-267 224,4 -4,4\"/>\r\n",
       "<!-- 1918474162112 -->\r\n",
       "<g id=\"node1\" class=\"node\">\r\n",
       "<title>1918474162112</title>\r\n",
       "<polygon fill=\"#caff70\" stroke=\"black\" points=\"139,-31 80,-31 80,0 139,0 139,-31\"/>\r\n",
       "<text text-anchor=\"middle\" x=\"109.5\" y=\"-7\" font-family=\"monospace\" font-size=\"10.00\"> (2, 2)</text>\r\n",
       "</g>\r\n",
       "<!-- 1918475240784 -->\r\n",
       "<g id=\"node2\" class=\"node\">\r\n",
       "<title>1918475240784</title>\r\n",
       "<polygon fill=\"lightgrey\" stroke=\"black\" points=\"154,-86 65,-86 65,-67 154,-67 154,-86\"/>\r\n",
       "<text text-anchor=\"middle\" x=\"109.5\" y=\"-74\" font-family=\"monospace\" font-size=\"10.00\">AddBackward0</text>\r\n",
       "</g>\r\n",
       "<!-- 1918475240784&#45;&gt;1918474162112 -->\r\n",
       "<g id=\"edge6\" class=\"edge\">\r\n",
       "<title>1918475240784&#45;&gt;1918474162112</title>\r\n",
       "<path fill=\"none\" stroke=\"black\" d=\"M109.5,-66.79C109.5,-60.07 109.5,-50.4 109.5,-41.34\"/>\r\n",
       "<polygon fill=\"black\" stroke=\"black\" points=\"113,-41.19 109.5,-31.19 106,-41.19 113,-41.19\"/>\r\n",
       "</g>\r\n",
       "<!-- 1918475242224 -->\r\n",
       "<g id=\"node3\" class=\"node\">\r\n",
       "<title>1918475242224</title>\r\n",
       "<polygon fill=\"lightgrey\" stroke=\"black\" points=\"154,-141 65,-141 65,-122 154,-122 154,-141\"/>\r\n",
       "<text text-anchor=\"middle\" x=\"109.5\" y=\"-129\" font-family=\"monospace\" font-size=\"10.00\">MulBackward0</text>\r\n",
       "</g>\r\n",
       "<!-- 1918475242224&#45;&gt;1918475240784 -->\r\n",
       "<g id=\"edge1\" class=\"edge\">\r\n",
       "<title>1918475242224&#45;&gt;1918475240784</title>\r\n",
       "<path fill=\"none\" stroke=\"black\" d=\"M109.5,-121.75C109.5,-114.8 109.5,-104.85 109.5,-96.13\"/>\r\n",
       "<polygon fill=\"black\" stroke=\"black\" points=\"113,-96.09 109.5,-86.09 106,-96.09 113,-96.09\"/>\r\n",
       "</g>\r\n",
       "<!-- 1918475240112 -->\r\n",
       "<g id=\"node4\" class=\"node\">\r\n",
       "<title>1918475240112</title>\r\n",
       "<polygon fill=\"lightgrey\" stroke=\"black\" points=\"101,-196 0,-196 0,-177 101,-177 101,-196\"/>\r\n",
       "<text text-anchor=\"middle\" x=\"50.5\" y=\"-184\" font-family=\"monospace\" font-size=\"10.00\">AccumulateGrad</text>\r\n",
       "</g>\r\n",
       "<!-- 1918475240112&#45;&gt;1918475242224 -->\r\n",
       "<g id=\"edge2\" class=\"edge\">\r\n",
       "<title>1918475240112&#45;&gt;1918475242224</title>\r\n",
       "<path fill=\"none\" stroke=\"black\" d=\"M59.98,-176.98C68.7,-169.15 81.84,-157.34 92.4,-147.86\"/>\r\n",
       "<polygon fill=\"black\" stroke=\"black\" points=\"94.75,-150.46 99.85,-141.17 90.07,-145.25 94.75,-150.46\"/>\r\n",
       "</g>\r\n",
       "<!-- 1918475257856 -->\r\n",
       "<g id=\"node5\" class=\"node\">\r\n",
       "<title>1918475257856</title>\r\n",
       "<polygon fill=\"lightblue\" stroke=\"black\" points=\"80,-263 21,-263 21,-232 80,-232 80,-263\"/>\r\n",
       "<text text-anchor=\"middle\" x=\"50.5\" y=\"-239\" font-family=\"monospace\" font-size=\"10.00\"> (1, 1)</text>\r\n",
       "</g>\r\n",
       "<!-- 1918475257856&#45;&gt;1918475240112 -->\r\n",
       "<g id=\"edge3\" class=\"edge\">\r\n",
       "<title>1918475257856&#45;&gt;1918475240112</title>\r\n",
       "<path fill=\"none\" stroke=\"black\" d=\"M50.5,-231.92C50.5,-224.22 50.5,-214.69 50.5,-206.43\"/>\r\n",
       "<polygon fill=\"black\" stroke=\"black\" points=\"54,-206.25 50.5,-196.25 47,-206.25 54,-206.25\"/>\r\n",
       "</g>\r\n",
       "<!-- 1918475242416 -->\r\n",
       "<g id=\"node6\" class=\"node\">\r\n",
       "<title>1918475242416</title>\r\n",
       "<polygon fill=\"lightgrey\" stroke=\"black\" points=\"220,-196 119,-196 119,-177 220,-177 220,-196\"/>\r\n",
       "<text text-anchor=\"middle\" x=\"169.5\" y=\"-184\" font-family=\"monospace\" font-size=\"10.00\">AccumulateGrad</text>\r\n",
       "</g>\r\n",
       "<!-- 1918475242416&#45;&gt;1918475242224 -->\r\n",
       "<g id=\"edge4\" class=\"edge\">\r\n",
       "<title>1918475242416&#45;&gt;1918475242224</title>\r\n",
       "<path fill=\"none\" stroke=\"black\" d=\"M159.86,-176.98C150.99,-169.15 137.63,-157.34 126.89,-147.86\"/>\r\n",
       "<polygon fill=\"black\" stroke=\"black\" points=\"129.13,-145.17 119.32,-141.17 124.49,-150.41 129.13,-145.17\"/>\r\n",
       "</g>\r\n",
       "<!-- 1918475140224 -->\r\n",
       "<g id=\"node7\" class=\"node\">\r\n",
       "<title>1918475140224</title>\r\n",
       "<polygon fill=\"lightblue\" stroke=\"black\" points=\"199,-263 140,-263 140,-232 199,-232 199,-263\"/>\r\n",
       "<text text-anchor=\"middle\" x=\"169.5\" y=\"-239\" font-family=\"monospace\" font-size=\"10.00\"> (2, 2)</text>\r\n",
       "</g>\r\n",
       "<!-- 1918475140224&#45;&gt;1918475242416 -->\r\n",
       "<g id=\"edge5\" class=\"edge\">\r\n",
       "<title>1918475140224&#45;&gt;1918475242416</title>\r\n",
       "<path fill=\"none\" stroke=\"black\" d=\"M169.5,-231.92C169.5,-224.22 169.5,-214.69 169.5,-206.43\"/>\r\n",
       "<polygon fill=\"black\" stroke=\"black\" points=\"173,-206.25 169.5,-196.25 166,-206.25 173,-206.25\"/>\r\n",
       "</g>\r\n",
       "</g>\r\n",
       "</svg>\r\n"
      ],
      "text/plain": [
       "<graphviz.dot.Digraph at 0x1beae090280>"
      ]
     },
     "execution_count": 91,
     "metadata": {},
     "output_type": "execute_result"
    }
   ],
   "source": [
    "x = torch.ones(2, 2, requires_grad=True)\n",
    "w = torch.rand(1, 1, requires_grad=True)\n",
    "print(x)\n",
    "print(w)\n",
    "y = w * x + 2\n",
    "print(y)\n",
    "torchviz.make_dot(y)"
   ]
  },
  {
   "cell_type": "markdown",
   "metadata": {
    "id": "uSvS2bdKidcc"
   },
   "source": [
    "\n",
    "## Playing with pytorch: linear regression"
   ]
  },
  {
   "cell_type": "markdown",
   "metadata": {
    "id": "UzjNRT-OSCzL"
   },
   "source": [
    "Code for plotting the surface"
   ]
  },
  {
   "cell_type": "code",
   "execution_count": 92,
   "metadata": {
    "executionInfo": {
     "elapsed": 4116,
     "status": "aborted",
     "timestamp": 1618173225350,
     "user": {
      "displayName": "Lionel Fillatre",
      "photoUrl": "",
      "userId": "14463393848879581998"
     },
     "user_tz": -120
    },
    "id": "KhuyxIm1Rd0W"
   },
   "outputs": [],
   "source": [
    "import matplotlib.pyplot as plt\n",
    "import numpy as np\n",
    "from mpl_toolkits.mplot3d import Axes3D\n",
    "\n",
    "def plot_figs(fig_num, elev, azim, x, y, weights, bias):\n",
    "    fig = plt.figure(fig_num, figsize=(4, 3))\n",
    "    plt.clf()\n",
    "    ax = Axes3D(fig, elev=elev, azim=azim)\n",
    "    ax.scatter(x[:, 0], x[:, 1], y)\n",
    "    ax.plot_surface(np.array([[0, 0], [1, 1]]),\n",
    "                    np.array([[0, 1], [0, 1]]),\n",
    "                    (np.dot(np.array([[0, 0, 1, 1],\n",
    "                                          [0, 1, 0, 1]]).T, weights) + bias).reshape((2, 2)),\n",
    "                    alpha=.5)\n",
    "    ax.set_xlabel('x_1')\n",
    "    ax.set_ylabel('x_2')\n",
    "    ax.set_zlabel('y')\n",
    "    \n",
    "def plot_views(x, y, w, b):\n",
    "    # Generate the different figures from different views\n",
    "    elev = 43.5\n",
    "    azim = -110\n",
    "    plot_figs(1, elev, azim, x, y, w, b[0])\n",
    "\n",
    "    plt.show()"
   ]
  },
  {
   "cell_type": "markdown",
   "metadata": {
    "id": "Bkt2h0X6SFmR"
   },
   "source": [
    "Code for generating the 2D points"
   ]
  },
  {
   "cell_type": "code",
   "execution_count": 93,
   "metadata": {
    "executionInfo": {
     "elapsed": 4108,
     "status": "aborted",
     "timestamp": 1618173225351,
     "user": {
      "displayName": "Lionel Fillatre",
      "photoUrl": "",
      "userId": "14463393848879581998"
     },
     "user_tz": -120
    },
    "id": "14tvkKCyMwYD"
   },
   "outputs": [
    {
     "name": "stdout",
     "output_type": "stream",
     "text": [
      "torch.Size([30, 2])\n",
      "torch.Size([2, 1])\n",
      "torch.Size([1])\n",
      "torch.Size([30, 1])\n"
     ]
    }
   ],
   "source": [
    "#Data generation (2D points)\n",
    "w_source = torch.tensor([2., -3.], dtype=torch.float).view(-1,1)\n",
    "b_source  = torch.tensor([1.], dtype=torch.float)\n",
    "\n",
    "x = torch.empty(30, 2).uniform_(0, 1) # input of the regression model\n",
    "\n",
    "print(x.shape)\n",
    "print(w_source.shape)\n",
    "print(b_source.shape)\n",
    "\n",
    "y = torch.matmul(x,w_source)+b_source # output of the regression model\n",
    "print(y.shape)"
   ]
  },
  {
   "cell_type": "markdown",
   "metadata": {
    "id": "KW6YMS6tSMVr"
   },
   "source": [
    "Plot the dataset"
   ]
  },
  {
   "cell_type": "code",
   "execution_count": 94,
   "metadata": {
    "executionInfo": {
     "elapsed": 4102,
     "status": "aborted",
     "timestamp": 1618173225352,
     "user": {
      "displayName": "Lionel Fillatre",
      "photoUrl": "",
      "userId": "14463393848879581998"
     },
     "user_tz": -120
    },
    "id": "rMRbqdZaRjCz"
   },
   "outputs": [
    {
     "name": "stderr",
     "output_type": "stream",
     "text": [
      "C:\\Users\\flore\\AppData\\Local\\Temp/ipykernel_6472/2037669839.py:8: MatplotlibDeprecationWarning: Axes3D(fig) adding itself to the figure is deprecated since 3.4. Pass the keyword argument auto_add_to_figure=False and use fig.add_axes(ax) to suppress this warning. The default value of auto_add_to_figure will change to False in mpl3.5 and True values will no longer work in 3.6.  This is consistent with other Axes classes.\n",
      "  ax = Axes3D(fig, elev=elev, azim=azim)\n"
     ]
    },
    {
     "data": {
      "image/png": "[encoded data removed]",
      "text/plain": [
       "<Figure size 288x216 with 1 Axes>"
      ]
     },
     "metadata": {
      "needs_background": "light"
     },
     "output_type": "display_data"
    }
   ],
   "source": [
    "plot_views(x.numpy(), y.numpy(), w_source.numpy(), b_source.numpy())"
   ]
  },
  {
   "cell_type": "code",
   "execution_count": 95,
   "metadata": {
    "executionInfo": {
     "elapsed": 4094,
     "status": "aborted",
     "timestamp": 1618173225353,
     "user": {
      "displayName": "Lionel Fillatre",
      "photoUrl": "",
      "userId": "14463393848879581998"
     },
     "user_tz": -120
    },
    "id": "bsGaEFPRiduc"
   },
   "outputs": [
    {
     "name": "stdout",
     "output_type": "stream",
     "text": [
      "Initial values of the parameters:\n",
      "tensor([[-0.0862],\n",
      "        [-0.1397]])\n",
      "tensor([[0.7010]])\n"
     ]
    }
   ],
   "source": [
    "# randomly initialize learnable weights and bias\n",
    "w_t_init = torch.empty(2, 1).uniform_(-1, 1) \n",
    "b_t_init = torch.empty(1, 1).uniform_(-1, 1)\n",
    "\n",
    "print(\"Initial values of the parameters:\")\n",
    "print(w_t_init) \n",
    "print(b_t_init)\n",
    "\n"
   ]
  },
  {
   "cell_type": "markdown",
   "metadata": {
    "id": "y2GD_KIBUTgS"
   },
   "source": [
    "### Question: calculate the gradient of the loss and code it."
   ]
  },
  {
   "cell_type": "code",
   "execution_count": 96,
   "metadata": {
    "executionInfo": {
     "elapsed": 4093,
     "status": "aborted",
     "timestamp": 1618173225354,
     "user": {
      "displayName": "Lionel Fillatre",
      "photoUrl": "",
      "userId": "14463393848879581998"
     },
     "user_tz": -120
    },
    "id": "xSwsgVkpPE2i"
   },
   "outputs": [],
   "source": [
    "# our model forward pass\n",
    "def forward_t(x):\n",
    "    return x.mm(w_t)+b_t\n",
    "\n",
    "# Loss function\n",
    "def loss_t(x, y):\n",
    "    y_pred = forward_t(x)\n",
    "    return (y_pred - y).pow(2).sum()\n",
    "\n",
    "# compute gradient\n",
    "def gradient_t(x, y):  # d_loss/d_w, d_loss/d_\n",
    "    # COMPLETE THE CELL FROM HERE (remove \"pass\")\n",
    "    # ...\n",
    "    n = x.size()\n",
    "    I = torch.diag(torch.ones(n))\n",
    "    dw = 2* (x.t()).mm(x.mm(w_t + I.mm(b_t) - y))\n",
    "    db = \n",
    "    \n"
   ]
  },
  {
   "cell_type": "markdown",
   "metadata": {
    "id": "7x8wNpUISp88"
   },
   "source": [
    "Main loop for computing the estimate (gradient descent)"
   ]
  },
  {
   "cell_type": "markdown",
   "metadata": {
    "id": "pAAxsXCqUSuR"
   },
   "source": [
    "### Question: code the gradient descent algorithm within the main loop."
   ]
  },
  {
   "cell_type": "code",
   "execution_count": null,
   "metadata": {
    "executionInfo": {
     "elapsed": 4086,
     "status": "aborted",
     "timestamp": 1618173225354,
     "user": {
      "displayName": "Lionel Fillatre",
      "photoUrl": "",
      "userId": "14463393848879581998"
     },
     "user_tz": -120
    },
    "id": "zmh-_IHaidxp"
   },
   "outputs": [],
   "source": [
    "learning_rate = 1e-2\n",
    "\n",
    "w_t = w_t_init.clone()\n",
    "b_t = b_t_init.clone()\n",
    "\n",
    "for epoch in range(10):\n",
    "    l = loss_t(x,y)\n",
    "    grad_w, grad_b = gradient_t(x,y)\n",
    "    # COMPLETE THE CELL FROM HERE\n",
    "    # ...\n",
    "    print(\"progress:\", \"epoch:\", epoch, \"loss\",l)"
   ]
  },
  {
   "cell_type": "code",
   "execution_count": null,
   "metadata": {
    "executionInfo": {
     "elapsed": 4081,
     "status": "aborted",
     "timestamp": 1618173225356,
     "user": {
      "displayName": "Lionel Fillatre",
      "photoUrl": "",
      "userId": "14463393848879581998"
     },
     "user_tz": -120
    },
    "id": "87XspCGIid0t"
   },
   "outputs": [],
   "source": [
    "# After training\n",
    "print(\"Estimation of the parameters:\")\n",
    "print(w_t)\n",
    "print(b_t)"
   ]
  },
  {
   "cell_type": "markdown",
   "metadata": {
    "id": "sceg1L15TqSy"
   },
   "source": [
    "### Question: Test a higger learning rate (e.g., learning_rate = 1). Explain what you observe."
   ]
  },
  {
   "cell_type": "markdown",
   "metadata": {
    "id": "gqWJFYZSTX_m"
   },
   "source": [
    "### Question: How to improve the quality of the estimate?"
   ]
  }
 ],
 "metadata": {
  "colab": {
   "collapsed_sections": [],
   "name": "DSTI_DL_Lab1_April2021.ipynb",
   "provenance": [],
   "toc_visible": true
  },
  "kernelspec": {
   "display_name": "Python 3 (ipykernel)",
   "language": "python",
   "name": "python3"
  },
  "language_info": {
   "codemirror_mode": {
    "name": "ipython",
    "version": 3
   },
   "file_extension": ".py",
   "mimetype": "text/x-python",
   "name": "python",
   "nbconvert_exporter": "python",
   "pygments_lexer": "ipython3",
   "version": "3.8.12"
  }
 },
 "nbformat": 4,
 "nbformat_minor": 1
}